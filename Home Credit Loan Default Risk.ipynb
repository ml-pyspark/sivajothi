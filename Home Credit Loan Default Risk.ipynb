{
 "cells": [
  {
   "cell_type": "markdown",
   "metadata": {},
   "source": [
    "# Home credit default risk "
   ]
  },
  {
   "cell_type": "markdown",
   "metadata": {},
   "source": [
    "## Predicting the capabilities of repaying a loan by an applicant\n"
   ]
  },
  {
   "cell_type": "code",
   "execution_count": 6,
   "metadata": {},
   "outputs": [],
   "source": [
    "from pyspark.sql import SparkSession"
   ]
  },
  {
   "cell_type": "code",
   "execution_count": 18,
   "metadata": {},
   "outputs": [],
   "source": [
    "import initShared"
   ]
  },
  {
   "cell_type": "code",
   "execution_count": 19,
   "metadata": {},
   "outputs": [],
   "source": [
    "initShared.initialize()"
   ]
  },
  {
   "cell_type": "markdown",
   "metadata": {},
   "source": [
    "## 1. Importing Custom Libraries"
   ]
  },
  {
   "cell_type": "code",
   "execution_count": 7,
   "metadata": {},
   "outputs": [
    {
     "name": "stderr",
     "output_type": "stream",
     "text": [
      "/opt/anaconda3/lib/python3.7/site-packages/sklearn/ensemble/weight_boosting.py:29: DeprecationWarning: numpy.core.umath_tests is an internal NumPy module and should not be imported. It will be removed in a future NumPy release.\n",
      "  from numpy.core.umath_tests import inner1d\n"
     ]
    }
   ],
   "source": [
    "import S3Serializer\n",
    "import cleanlib\n",
    "import EncodeLib\n",
    "import Model_Fit\n",
    "import Feature_Importance"
   ]
  },
  {
   "cell_type": "markdown",
   "metadata": {},
   "source": [
    "## 2. Creating spark Instance\n",
    "\n",
    "\n",
    "#### Creating a session named 'HomeCredit'"
   ]
  },
  {
   "cell_type": "code",
   "execution_count": 8,
   "metadata": {},
   "outputs": [],
   "source": [
    "spark = SparkSession.builder.appName('HomeCredit').getOrCreate()"
   ]
  },
  {
   "cell_type": "markdown",
   "metadata": {},
   "source": [
    "## TODO: 2.5 Add a step to schedule/invoke data ingestion and showcase it here"
   ]
  },
  {
   "cell_type": "markdown",
   "metadata": {},
   "source": [
    "## 3. Connecting to remote cluster using S3Bucket library"
   ]
  },
  {
   "cell_type": "code",
   "execution_count": 11,
   "metadata": {},
   "outputs": [
    {
     "name": "stdout",
     "output_type": "stream",
     "text": [
      "Connecting to host  18.212.194.194\n",
      "Connected\n"
     ]
    }
   ],
   "source": [
    "s3=S3Serializer.S3Bucket()\n",
    "s3.connect(host = \"18.212.194.194\", username = \"centos\", key = './InternalPOC_Digital.pem')\n"
   ]
  },
  {
   "cell_type": "markdown",
   "metadata": {},
   "source": [
    "## 4. Getting data from remote cluster"
   ]
  },
  {
   "cell_type": "code",
   "execution_count": 12,
   "metadata": {},
   "outputs": [
    {
     "name": "stdout",
     "output_type": "stream",
     "text": [
      "Getting data...\n",
      "Getting File--> part-00000-ba0f831d-c1e9-4a84-aebd-6fe75d857d71-c000.snappy.parquet\n",
      "Getting File--> part-00001-ba0f831d-c1e9-4a84-aebd-6fe75d857d71-c000.snappy.parquet\n",
      "Getting File--> part-00002-ba0f831d-c1e9-4a84-aebd-6fe75d857d71-c000.snappy.parquet\n",
      "Getting File--> part-00003-ba0f831d-c1e9-4a84-aebd-6fe75d857d71-c000.snappy.parquet\n",
      "Getting File--> _SUCCESS\n",
      "['part-00000-ba0f831d-c1e9-4a84-aebd-6fe75d857d71-c000.snappy.parquet', 'part-00001-ba0f831d-c1e9-4a84-aebd-6fe75d857d71-c000.snappy.parquet', 'part-00002-ba0f831d-c1e9-4a84-aebd-6fe75d857d71-c000.snappy.parquet', 'part-00003-ba0f831d-c1e9-4a84-aebd-6fe75d857d71-c000.snappy.parquet', '_SUCCESS']\n"
     ]
    }
   ],
   "source": [
    "s3.get_dir_remote('home_credit','home_credit')"
   ]
  },
  {
   "cell_type": "markdown",
   "metadata": {},
   "source": [
    "## 5. Loading data"
   ]
  },
  {
   "cell_type": "code",
   "execution_count": 13,
   "metadata": {},
   "outputs": [],
   "source": [
    "data=spark.read.parquet('./home_credit')"
   ]
  },
  {
   "cell_type": "code",
   "execution_count": 14,
   "metadata": {
    "scrolled": true
   },
   "outputs": [
    {
     "name": "stdout",
     "output_type": "stream",
     "text": [
      "+----------+------+------------------+-----------+------------+---------------+------------+----------------+----------+-----------+---------------+---------------+----------------+--------------------+--------------------+-----------------+--------------------------+----------+-------------+-----------------+---------------+-----------+----------+--------------+---------------+----------------+----------+----------+---------------+---------------+--------------------+---------------------------+--------------------------+-----------------------+--------------------------+--------------------------+---------------------------+----------------------+----------------------+-----------------------+--------------------+-------------------+------------------+-------------------+--------------+----------------+---------------------------+---------------+--------------+-------------+-------------+-------------+-------------+------------+--------------------+--------------+-----------------------+-----------------+---------------+-----------------+----------------------------+----------------+---------------+--------------+--------------+--------------+--------------+-------------+---------------------+---------------+------------------------+------------------+---------------+-----------------+----------------------------+----------------+---------------+--------------+--------------+--------------+--------------+-------------+---------------------+---------------+------------------------+------------------+------------------+--------------+--------------+------------------+-------------------+------------------------+------------------------+------------------------+------------------------+----------------------+---------------+---------------+---------------+---------------+---------------+---------------+---------------+---------------+----------------+----------------+----------------+----------------+----------------+----------------+----------------+----------------+----------------+----------------+----------------+----------------+--------------------------+-------------------------+--------------------------+-------------------------+-------------------------+--------------------------+\n",
      "|SK_ID_CURR|TARGET|NAME_CONTRACT_TYPE|CODE_GENDER|FLAG_OWN_CAR|FLAG_OWN_REALTY|CNT_CHILDREN|AMT_INCOME_TOTAL|AMT_CREDIT|AMT_ANNUITY|AMT_GOODS_PRICE|NAME_TYPE_SUITE|NAME_INCOME_TYPE| NAME_EDUCATION_TYPE|  NAME_FAMILY_STATUS|NAME_HOUSING_TYPE|REGION_POPULATION_RELATIVE|DAYS_BIRTH|DAYS_EMPLOYED|DAYS_REGISTRATION|DAYS_ID_PUBLISH|OWN_CAR_AGE|FLAG_MOBIL|FLAG_EMP_PHONE|FLAG_WORK_PHONE|FLAG_CONT_MOBILE|FLAG_PHONE|FLAG_EMAIL|OCCUPATION_TYPE|CNT_FAM_MEMBERS|REGION_RATING_CLIENT|REGION_RATING_CLIENT_W_CITY|WEEKDAY_APPR_PROCESS_START|HOUR_APPR_PROCESS_START|REG_REGION_NOT_LIVE_REGION|REG_REGION_NOT_WORK_REGION|LIVE_REGION_NOT_WORK_REGION|REG_CITY_NOT_LIVE_CITY|REG_CITY_NOT_WORK_CITY|LIVE_CITY_NOT_WORK_CITY|   ORGANIZATION_TYPE|       EXT_SOURCE_1|      EXT_SOURCE_2|       EXT_SOURCE_3|APARTMENTS_AVG|BASEMENTAREA_AVG|YEARS_BEGINEXPLUATATION_AVG|YEARS_BUILD_AVG|COMMONAREA_AVG|ELEVATORS_AVG|ENTRANCES_AVG|FLOORSMAX_AVG|FLOORSMIN_AVG|LANDAREA_AVG|LIVINGAPARTMENTS_AVG|LIVINGAREA_AVG|NONLIVINGAPARTMENTS_AVG|NONLIVINGAREA_AVG|APARTMENTS_MODE|BASEMENTAREA_MODE|YEARS_BEGINEXPLUATATION_MODE|YEARS_BUILD_MODE|COMMONAREA_MODE|ELEVATORS_MODE|ENTRANCES_MODE|FLOORSMAX_MODE|FLOORSMIN_MODE|LANDAREA_MODE|LIVINGAPARTMENTS_MODE|LIVINGAREA_MODE|NONLIVINGAPARTMENTS_MODE|NONLIVINGAREA_MODE|APARTMENTS_MEDI|BASEMENTAREA_MEDI|YEARS_BEGINEXPLUATATION_MEDI|YEARS_BUILD_MEDI|COMMONAREA_MEDI|ELEVATORS_MEDI|ENTRANCES_MEDI|FLOORSMAX_MEDI|FLOORSMIN_MEDI|LANDAREA_MEDI|LIVINGAPARTMENTS_MEDI|LIVINGAREA_MEDI|NONLIVINGAPARTMENTS_MEDI|NONLIVINGAREA_MEDI|FONDKAPREMONT_MODE|HOUSETYPE_MODE|TOTALAREA_MODE|WALLSMATERIAL_MODE|EMERGENCYSTATE_MODE|OBS_30_CNT_SOCIAL_CIRCLE|DEF_30_CNT_SOCIAL_CIRCLE|OBS_60_CNT_SOCIAL_CIRCLE|DEF_60_CNT_SOCIAL_CIRCLE|DAYS_LAST_PHONE_CHANGE|FLAG_DOCUMENT_2|FLAG_DOCUMENT_3|FLAG_DOCUMENT_4|FLAG_DOCUMENT_5|FLAG_DOCUMENT_6|FLAG_DOCUMENT_7|FLAG_DOCUMENT_8|FLAG_DOCUMENT_9|FLAG_DOCUMENT_10|FLAG_DOCUMENT_11|FLAG_DOCUMENT_12|FLAG_DOCUMENT_13|FLAG_DOCUMENT_14|FLAG_DOCUMENT_15|FLAG_DOCUMENT_16|FLAG_DOCUMENT_17|FLAG_DOCUMENT_18|FLAG_DOCUMENT_19|FLAG_DOCUMENT_20|FLAG_DOCUMENT_21|AMT_REQ_CREDIT_BUREAU_HOUR|AMT_REQ_CREDIT_BUREAU_DAY|AMT_REQ_CREDIT_BUREAU_WEEK|AMT_REQ_CREDIT_BUREAU_MON|AMT_REQ_CREDIT_BUREAU_QRT|AMT_REQ_CREDIT_BUREAU_YEAR|\n",
      "+----------+------+------------------+-----------+------------+---------------+------------+----------------+----------+-----------+---------------+---------------+----------------+--------------------+--------------------+-----------------+--------------------------+----------+-------------+-----------------+---------------+-----------+----------+--------------+---------------+----------------+----------+----------+---------------+---------------+--------------------+---------------------------+--------------------------+-----------------------+--------------------------+--------------------------+---------------------------+----------------------+----------------------+-----------------------+--------------------+-------------------+------------------+-------------------+--------------+----------------+---------------------------+---------------+--------------+-------------+-------------+-------------+-------------+------------+--------------------+--------------+-----------------------+-----------------+---------------+-----------------+----------------------------+----------------+---------------+--------------+--------------+--------------+--------------+-------------+---------------------+---------------+------------------------+------------------+---------------+-----------------+----------------------------+----------------+---------------+--------------+--------------+--------------+--------------+-------------+---------------------+---------------+------------------------+------------------+------------------+--------------+--------------+------------------+-------------------+------------------------+------------------------+------------------------+------------------------+----------------------+---------------+---------------+---------------+---------------+---------------+---------------+---------------+---------------+----------------+----------------+----------------+----------------+----------------+----------------+----------------+----------------+----------------+----------------+----------------+----------------+--------------------------+-------------------------+--------------------------+-------------------------+-------------------------+--------------------------+\n",
      "|    100002|     1|        Cash loans|          M|           N|              Y|           0|        202500.0|  406597.5|    24700.5|       351000.0|  Unaccompanied|         Working|Secondary / secon...|Single / not married|House / apartment|                  0.018801|     -9461|         -637|          -3648.0|          -2120|       null|         1|             1|              0|               1|         1|         0|       Laborers|            1.0|                   2|                          2|                 WEDNESDAY|                     10|                         0|                         0|                          0|                     0|                     0|                      0|Business Entity T...|0.08303696739132256|0.2629485927471776|0.13937578009978951|        0.0247|          0.0369|                     0.9722|         0.6192|        0.0143|          0.0|        0.069|       0.0833|        0.125|      0.0369|              0.0202|         0.019|                    0.0|              0.0|         0.0252|           0.0383|                      0.9722|          0.6341|         0.0144|           0.0|         0.069|        0.0833|         0.125|       0.0377| 0.022000000000000002|         0.0198|                     0.0|               0.0|          0.025|           0.0369|                      0.9722|          0.6243|         0.0144|           0.0|         0.069|        0.0833|         0.125|       0.0375|               0.0205|         0.0193|                     0.0|               0.0|  reg oper account|block of flats|        0.0149|      Stone, brick|                 No|                     2.0|                     2.0|                     2.0|                     2.0|               -1134.0|              0|              1|              0|              0|              0|              0|              0|              0|               0|               0|               0|               0|               0|               0|               0|               0|               0|               0|               0|               0|                       0.0|                      0.0|                       0.0|                      0.0|                      0.0|                       1.0|\n",
      "+----------+------+------------------+-----------+------------+---------------+------------+----------------+----------+-----------+---------------+---------------+----------------+--------------------+--------------------+-----------------+--------------------------+----------+-------------+-----------------+---------------+-----------+----------+--------------+---------------+----------------+----------+----------+---------------+---------------+--------------------+---------------------------+--------------------------+-----------------------+--------------------------+--------------------------+---------------------------+----------------------+----------------------+-----------------------+--------------------+-------------------+------------------+-------------------+--------------+----------------+---------------------------+---------------+--------------+-------------+-------------+-------------+-------------+------------+--------------------+--------------+-----------------------+-----------------+---------------+-----------------+----------------------------+----------------+---------------+--------------+--------------+--------------+--------------+-------------+---------------------+---------------+------------------------+------------------+---------------+-----------------+----------------------------+----------------+---------------+--------------+--------------+--------------+--------------+-------------+---------------------+---------------+------------------------+------------------+------------------+--------------+--------------+------------------+-------------------+------------------------+------------------------+------------------------+------------------------+----------------------+---------------+---------------+---------------+---------------+---------------+---------------+---------------+---------------+----------------+----------------+----------------+----------------+----------------+----------------+----------------+----------------+----------------+----------------+----------------+----------------+--------------------------+-------------------------+--------------------------+-------------------------+-------------------------+--------------------------+\n",
      "only showing top 1 row\n",
      "\n"
     ]
    }
   ],
   "source": [
    "data.show(1)"
   ]
  },
  {
   "cell_type": "code",
   "execution_count": 15,
   "metadata": {
    "scrolled": false
   },
   "outputs": [
    {
     "data": {
      "text/plain": [
       "122"
      ]
     },
     "execution_count": 15,
     "metadata": {},
     "output_type": "execute_result"
    }
   ],
   "source": [
    "len(data.columns)"
   ]
  },
  {
   "cell_type": "markdown",
   "metadata": {},
   "source": [
    "## 6. Data Cleansing using Data_Cleaning library\n",
    "\n",
    "##### Data_Cleaning library does:\n",
    "1. Removes the highest null value column(30%)\n",
    "2. Imputes the remaining null containing columns with frequent occuring value of the respective columns"
   ]
  },
  {
   "cell_type": "code",
   "execution_count": 17,
   "metadata": {
    "scrolled": true
   },
   "outputs": [],
   "source": [
    "cln = cleanlib.DataCleaningLib()"
   ]
  },
  {
   "cell_type": "code",
   "execution_count": 18,
   "metadata": {},
   "outputs": [
    {
     "name": "stdout",
     "output_type": "stream",
     "text": [
      "1.Data Cleaning and Preprocessing\n",
      "processing--> SK_ID_CURR\n",
      "processing--> TARGET\n",
      "processing--> NAME_CONTRACT_TYPE\n",
      "processing--> CODE_GENDER\n",
      "processing--> FLAG_OWN_CAR\n",
      "processing--> FLAG_OWN_REALTY\n",
      "processing--> CNT_CHILDREN\n",
      "processing--> AMT_INCOME_TOTAL\n",
      "processing--> AMT_CREDIT\n",
      "processing--> AMT_ANNUITY\n",
      "processing--> AMT_GOODS_PRICE\n",
      "processing--> NAME_TYPE_SUITE\n",
      "processing--> NAME_INCOME_TYPE\n",
      "processing--> NAME_EDUCATION_TYPE\n",
      "processing--> NAME_FAMILY_STATUS\n",
      "processing--> NAME_HOUSING_TYPE\n",
      "processing--> REGION_POPULATION_RELATIVE\n",
      "processing--> DAYS_BIRTH\n",
      "processing--> DAYS_EMPLOYED\n",
      "processing--> DAYS_REGISTRATION\n",
      "processing--> DAYS_ID_PUBLISH\n",
      "processing--> OWN_CAR_AGE\n",
      "processing--> FLAG_MOBIL\n",
      "processing--> FLAG_EMP_PHONE\n",
      "processing--> FLAG_WORK_PHONE\n",
      "processing--> FLAG_CONT_MOBILE\n",
      "processing--> FLAG_PHONE\n",
      "processing--> FLAG_EMAIL\n",
      "processing--> OCCUPATION_TYPE\n",
      "processing--> CNT_FAM_MEMBERS\n",
      "processing--> REGION_RATING_CLIENT\n",
      "processing--> REGION_RATING_CLIENT_W_CITY\n",
      "processing--> WEEKDAY_APPR_PROCESS_START\n",
      "processing--> HOUR_APPR_PROCESS_START\n",
      "processing--> REG_REGION_NOT_LIVE_REGION\n",
      "processing--> REG_REGION_NOT_WORK_REGION\n",
      "processing--> LIVE_REGION_NOT_WORK_REGION\n",
      "processing--> REG_CITY_NOT_LIVE_CITY\n",
      "processing--> REG_CITY_NOT_WORK_CITY\n",
      "processing--> LIVE_CITY_NOT_WORK_CITY\n",
      "processing--> ORGANIZATION_TYPE\n",
      "processing--> EXT_SOURCE_1\n",
      "processing--> EXT_SOURCE_2\n",
      "processing--> EXT_SOURCE_3\n",
      "processing--> APARTMENTS_AVG\n",
      "processing--> BASEMENTAREA_AVG\n",
      "processing--> YEARS_BEGINEXPLUATATION_AVG\n",
      "processing--> YEARS_BUILD_AVG\n",
      "processing--> COMMONAREA_AVG\n",
      "processing--> ELEVATORS_AVG\n",
      "processing--> ENTRANCES_AVG\n",
      "processing--> FLOORSMAX_AVG\n",
      "processing--> FLOORSMIN_AVG\n",
      "processing--> LANDAREA_AVG\n",
      "processing--> LIVINGAPARTMENTS_AVG\n",
      "processing--> LIVINGAREA_AVG\n",
      "processing--> NONLIVINGAPARTMENTS_AVG\n",
      "processing--> NONLIVINGAREA_AVG\n",
      "processing--> APARTMENTS_MODE\n",
      "processing--> BASEMENTAREA_MODE\n",
      "processing--> YEARS_BEGINEXPLUATATION_MODE\n",
      "processing--> YEARS_BUILD_MODE\n",
      "processing--> COMMONAREA_MODE\n",
      "processing--> ELEVATORS_MODE\n",
      "processing--> ENTRANCES_MODE\n",
      "processing--> FLOORSMAX_MODE\n",
      "processing--> FLOORSMIN_MODE\n",
      "processing--> LANDAREA_MODE\n",
      "processing--> LIVINGAPARTMENTS_MODE\n",
      "processing--> LIVINGAREA_MODE\n",
      "processing--> NONLIVINGAPARTMENTS_MODE\n",
      "processing--> NONLIVINGAREA_MODE\n",
      "processing--> APARTMENTS_MEDI\n",
      "processing--> BASEMENTAREA_MEDI\n",
      "processing--> YEARS_BEGINEXPLUATATION_MEDI\n",
      "processing--> YEARS_BUILD_MEDI\n",
      "processing--> COMMONAREA_MEDI\n",
      "processing--> ELEVATORS_MEDI\n",
      "processing--> ENTRANCES_MEDI\n",
      "processing--> FLOORSMAX_MEDI\n",
      "processing--> FLOORSMIN_MEDI\n",
      "processing--> LANDAREA_MEDI\n",
      "processing--> LIVINGAPARTMENTS_MEDI\n",
      "processing--> LIVINGAREA_MEDI\n",
      "processing--> NONLIVINGAPARTMENTS_MEDI\n",
      "processing--> NONLIVINGAREA_MEDI\n",
      "processing--> FONDKAPREMONT_MODE\n",
      "processing--> HOUSETYPE_MODE\n",
      "processing--> TOTALAREA_MODE\n",
      "processing--> WALLSMATERIAL_MODE\n",
      "processing--> EMERGENCYSTATE_MODE\n",
      "processing--> OBS_30_CNT_SOCIAL_CIRCLE\n",
      "processing--> DEF_30_CNT_SOCIAL_CIRCLE\n",
      "processing--> OBS_60_CNT_SOCIAL_CIRCLE\n",
      "processing--> DEF_60_CNT_SOCIAL_CIRCLE\n",
      "processing--> DAYS_LAST_PHONE_CHANGE\n",
      "processing--> FLAG_DOCUMENT_2\n",
      "processing--> FLAG_DOCUMENT_3\n",
      "processing--> FLAG_DOCUMENT_4\n",
      "processing--> FLAG_DOCUMENT_5\n",
      "processing--> FLAG_DOCUMENT_6\n",
      "processing--> FLAG_DOCUMENT_7\n",
      "processing--> FLAG_DOCUMENT_8\n",
      "processing--> FLAG_DOCUMENT_9\n",
      "processing--> FLAG_DOCUMENT_10\n",
      "processing--> FLAG_DOCUMENT_11\n",
      "processing--> FLAG_DOCUMENT_12\n",
      "processing--> FLAG_DOCUMENT_13\n",
      "processing--> FLAG_DOCUMENT_14\n",
      "processing--> FLAG_DOCUMENT_15\n",
      "processing--> FLAG_DOCUMENT_16\n",
      "processing--> FLAG_DOCUMENT_17\n",
      "processing--> FLAG_DOCUMENT_18\n",
      "processing--> FLAG_DOCUMENT_19\n",
      "processing--> FLAG_DOCUMENT_20\n",
      "processing--> FLAG_DOCUMENT_21\n",
      "processing--> AMT_REQ_CREDIT_BUREAU_HOUR\n",
      "processing--> AMT_REQ_CREDIT_BUREAU_DAY\n",
      "processing--> AMT_REQ_CREDIT_BUREAU_WEEK\n",
      "processing--> AMT_REQ_CREDIT_BUREAU_MON\n",
      "processing--> AMT_REQ_CREDIT_BUREAU_QRT\n",
      "processing--> AMT_REQ_CREDIT_BUREAU_YEAR\n",
      "!-----DONE------!\n",
      "2.IMPUTING CATEGORICAL VALUES\n",
      "Imputing--> NAME_TYPE_SUITE\n",
      "3.IMPUTING NUMERICAL VALUES\n",
      "Final number of columns after pre-processing 72\n"
     ]
    }
   ],
   "source": [
    "data=cln.cleaning(data)"
   ]
  },
  {
   "cell_type": "code",
   "execution_count": 19,
   "metadata": {},
   "outputs": [],
   "source": [
    "data_pandas=data.toPandas()\n",
    "y=data_pandas['TARGET'].values\n",
    "data_pandas.drop(['TARGET','SK_ID_CURR'],axis=1,inplace=True)\n",
    "categorical_columns=set(data_pandas.columns)-set(data_pandas._get_numeric_data().columns)\n",
    "numeric_columns=data_pandas._get_numeric_data().columns\n",
    "X=data_pandas[list(numeric_columns)].values"
   ]
  },
  {
   "cell_type": "markdown",
   "metadata": {},
   "source": [
    "## 7. Feature Selection Using Feature_Importance library\n",
    "\n",
    "#### Feature_Importance library contains various feature selection algorithm(LightGBM, CatBoostClassifier, RandomForestClassifier) to select the best correlated features"
   ]
  },
  {
   "cell_type": "code",
   "execution_count": 20,
   "metadata": {},
   "outputs": [],
   "source": [
    "fi = Feature_Importance.Feature_Importance_Transformer(data_pandas)"
   ]
  },
  {
   "cell_type": "code",
   "execution_count": 21,
   "metadata": {},
   "outputs": [
    {
     "name": "stdout",
     "output_type": "stream",
     "text": [
      "Plot Top 40 feature importances…\n"
     ]
    },
    {
     "data": {
      "image/png": "[encoded data removed]",
      "text/plain": [
       "<Figure size 1152x1152 with 1 Axes>"
      ]
     },
     "metadata": {
      "needs_background": "light"
     },
     "output_type": "display_data"
    }
   ],
   "source": [
    "fi.feature_importance_lightGBM(y=y,categorical_columns=categorical_columns,n_features=40)"
   ]
  },
  {
   "cell_type": "markdown",
   "metadata": {},
   "source": [
    "## 8. Label Encoding using EncodeLib library\n",
    "\n",
    "##### EncodeLib library contains class for Label Encoding(LabelEncode) which encodes all the categorical columns in the dataframe and returns the string indexed dataframe"
   ]
  },
  {
   "cell_type": "code",
   "execution_count": 22,
   "metadata": {
    "scrolled": true
   },
   "outputs": [],
   "source": [
    "pp = EncodeLib.LabelEncode(outputCols=['TARGET'])"
   ]
  },
  {
   "cell_type": "code",
   "execution_count": 23,
   "metadata": {},
   "outputs": [
    {
     "name": "stdout",
     "output_type": "stream",
     "text": [
      "NAME_INCOME_TYPE\n",
      "FLAG_OWN_REALTY\n",
      "CODE_GENDER\n",
      "NAME_CONTRACT_TYPE\n",
      "NAME_HOUSING_TYPE\n",
      "ORGANIZATION_TYPE\n",
      "FLAG_OWN_CAR\n",
      "NAME_FAMILY_STATUS\n",
      "NAME_TYPE_SUITE\n",
      "NAME_EDUCATION_TYPE\n",
      "WEEKDAY_APPR_PROCESS_START\n"
     ]
    }
   ],
   "source": [
    "data = pp.transform(data)"
   ]
  },
  {
   "cell_type": "markdown",
   "metadata": {},
   "source": [
    "## 9. One Hot Encoding using EncodeLib library\n",
    "\n",
    "##### EncodeLib library contains class for One Hot Encoding(OHEncode) which encodes the string indexed columns in the dataframe and returns the encoded(vectors) dataframe"
   ]
  },
  {
   "cell_type": "code",
   "execution_count": 24,
   "metadata": {},
   "outputs": [],
   "source": [
    "ohe = EncodeLib.OHEncode()"
   ]
  },
  {
   "cell_type": "code",
   "execution_count": 25,
   "metadata": {},
   "outputs": [],
   "source": [
    "data = ohe.transform(data)"
   ]
  },
  {
   "cell_type": "markdown",
   "metadata": {},
   "source": [
    "## 10. Converting independant variables to vectors using EncodeLib library\n",
    "\n",
    "##### VectorChange class in EncodeLib library converts all the independent variables into single column named 'features'(vector) which can be used for model building"
   ]
  },
  {
   "cell_type": "code",
   "execution_count": 26,
   "metadata": {},
   "outputs": [],
   "source": [
    "vec = EncodeLib.VectorChange(outputCols=['TARGET'])"
   ]
  },
  {
   "cell_type": "code",
   "execution_count": 27,
   "metadata": {},
   "outputs": [],
   "source": [
    "data = vec.transform(data)"
   ]
  },
  {
   "cell_type": "code",
   "execution_count": 28,
   "metadata": {},
   "outputs": [
    {
     "name": "stdout",
     "output_type": "stream",
     "text": [
      "root\n",
      " |-- SK_ID_CURR: integer (nullable = true)\n",
      " |-- TARGET: integer (nullable = true)\n",
      " |-- CNT_CHILDREN: integer (nullable = true)\n",
      " |-- AMT_INCOME_TOTAL: double (nullable = true)\n",
      " |-- AMT_CREDIT: double (nullable = true)\n",
      " |-- REGION_POPULATION_RELATIVE: double (nullable = true)\n",
      " |-- DAYS_BIRTH: integer (nullable = true)\n",
      " |-- DAYS_EMPLOYED: integer (nullable = true)\n",
      " |-- DAYS_REGISTRATION: double (nullable = true)\n",
      " |-- DAYS_ID_PUBLISH: integer (nullable = true)\n",
      " |-- FLAG_MOBIL: integer (nullable = true)\n",
      " |-- FLAG_EMP_PHONE: integer (nullable = true)\n",
      " |-- FLAG_WORK_PHONE: integer (nullable = true)\n",
      " |-- FLAG_CONT_MOBILE: integer (nullable = true)\n",
      " |-- FLAG_PHONE: integer (nullable = true)\n",
      " |-- FLAG_EMAIL: integer (nullable = true)\n",
      " |-- REGION_RATING_CLIENT: integer (nullable = true)\n",
      " |-- REGION_RATING_CLIENT_W_CITY: integer (nullable = true)\n",
      " |-- HOUR_APPR_PROCESS_START: integer (nullable = true)\n",
      " |-- REG_REGION_NOT_LIVE_REGION: integer (nullable = true)\n",
      " |-- REG_REGION_NOT_WORK_REGION: integer (nullable = true)\n",
      " |-- LIVE_REGION_NOT_WORK_REGION: integer (nullable = true)\n",
      " |-- REG_CITY_NOT_LIVE_CITY: integer (nullable = true)\n",
      " |-- REG_CITY_NOT_WORK_CITY: integer (nullable = true)\n",
      " |-- LIVE_CITY_NOT_WORK_CITY: integer (nullable = true)\n",
      " |-- FLAG_DOCUMENT_2: integer (nullable = true)\n",
      " |-- FLAG_DOCUMENT_3: integer (nullable = true)\n",
      " |-- FLAG_DOCUMENT_4: integer (nullable = true)\n",
      " |-- FLAG_DOCUMENT_5: integer (nullable = true)\n",
      " |-- FLAG_DOCUMENT_6: integer (nullable = true)\n",
      " |-- FLAG_DOCUMENT_7: integer (nullable = true)\n",
      " |-- FLAG_DOCUMENT_8: integer (nullable = true)\n",
      " |-- FLAG_DOCUMENT_9: integer (nullable = true)\n",
      " |-- FLAG_DOCUMENT_10: integer (nullable = true)\n",
      " |-- FLAG_DOCUMENT_11: integer (nullable = true)\n",
      " |-- FLAG_DOCUMENT_12: integer (nullable = true)\n",
      " |-- FLAG_DOCUMENT_13: integer (nullable = true)\n",
      " |-- FLAG_DOCUMENT_14: integer (nullable = true)\n",
      " |-- FLAG_DOCUMENT_15: integer (nullable = true)\n",
      " |-- FLAG_DOCUMENT_16: integer (nullable = true)\n",
      " |-- FLAG_DOCUMENT_17: integer (nullable = true)\n",
      " |-- FLAG_DOCUMENT_18: integer (nullable = true)\n",
      " |-- FLAG_DOCUMENT_19: integer (nullable = true)\n",
      " |-- FLAG_DOCUMENT_20: integer (nullable = true)\n",
      " |-- FLAG_DOCUMENT_21: integer (nullable = true)\n",
      " |-- imputed_DEF_30_CNT_SOCIAL_CIRCLE: double (nullable = true)\n",
      " |-- imputed_DAYS_LAST_PHONE_CHANGE: double (nullable = true)\n",
      " |-- imputed_OBS_30_CNT_SOCIAL_CIRCLE: double (nullable = true)\n",
      " |-- imputed_CNT_FAM_MEMBERS: double (nullable = true)\n",
      " |-- imputed_OBS_60_CNT_SOCIAL_CIRCLE: double (nullable = true)\n",
      " |-- imputed_AMT_REQ_CREDIT_BUREAU_MON: double (nullable = true)\n",
      " |-- imputed_AMT_REQ_CREDIT_BUREAU_QRT: double (nullable = true)\n",
      " |-- imputed_AMT_REQ_CREDIT_BUREAU_DAY: double (nullable = true)\n",
      " |-- imputed_AMT_REQ_CREDIT_BUREAU_HOUR: double (nullable = true)\n",
      " |-- imputed_AMT_ANNUITY: double (nullable = true)\n",
      " |-- imputed_AMT_REQ_CREDIT_BUREAU_WEEK: double (nullable = true)\n",
      " |-- imputed_EXT_SOURCE_3: double (nullable = true)\n",
      " |-- imputed_EXT_SOURCE_2: double (nullable = true)\n",
      " |-- imputed_AMT_REQ_CREDIT_BUREAU_YEAR: double (nullable = true)\n",
      " |-- imputed_AMT_GOODS_PRICE: double (nullable = true)\n",
      " |-- imputed_DEF_60_CNT_SOCIAL_CIRCLE: double (nullable = true)\n",
      " |-- index_FLAG_OWN_REALTY: double (nullable = false)\n",
      " |-- index_NAME_CONTRACT_TYPE: double (nullable = false)\n",
      " |-- index_FLAG_OWN_CAR: double (nullable = false)\n",
      " |-- ohe_index_NAME_INCOME_TYPE: vector (nullable = true)\n",
      " |-- ohe_index_CODE_GENDER: vector (nullable = true)\n",
      " |-- ohe_index_NAME_HOUSING_TYPE: vector (nullable = true)\n",
      " |-- ohe_index_ORGANIZATION_TYPE: vector (nullable = true)\n",
      " |-- ohe_index_NAME_FAMILY_STATUS: vector (nullable = true)\n",
      " |-- ohe_index_NAME_TYPE_SUITE: vector (nullable = true)\n",
      " |-- ohe_index_NAME_EDUCATION_TYPE: vector (nullable = true)\n",
      " |-- ohe_index_WEEKDAY_APPR_PROCESS_START: vector (nullable = true)\n",
      " |-- features: vector (nullable = true)\n",
      "\n"
     ]
    }
   ],
   "source": [
    "data.printSchema()"
   ]
  },
  {
   "cell_type": "markdown",
   "metadata": {},
   "source": [
    "## 11. Model Building using Model_Fit library\n",
    "\n",
    "##### ModelFit class in Model_Fit library applies data on classification model and returns the predcition score\n",
    "-------\n",
    "##### Logistic Regression"
   ]
  },
  {
   "cell_type": "code",
   "execution_count": 29,
   "metadata": {},
   "outputs": [],
   "source": [
    "model1 = Model_Fit.ModelFit(inputCol='LR')"
   ]
  },
  {
   "cell_type": "code",
   "execution_count": 30,
   "metadata": {},
   "outputs": [],
   "source": [
    "log_reg_pred = model1.transform(data)"
   ]
  },
  {
   "cell_type": "code",
   "execution_count": 31,
   "metadata": {
    "scrolled": true
   },
   "outputs": [
    {
     "name": "stdout",
     "output_type": "stream",
     "text": [
      "0.7348979169634233\n"
     ]
    }
   ],
   "source": [
    "model1._evaluate_prediction()"
   ]
  },
  {
   "cell_type": "markdown",
   "metadata": {},
   "source": [
    "##### Random Forest Classifier"
   ]
  },
  {
   "cell_type": "code",
   "execution_count": 32,
   "metadata": {},
   "outputs": [],
   "source": [
    "model2 = Model_Fit.ModelFit(inputCol='RF')"
   ]
  },
  {
   "cell_type": "code",
   "execution_count": 33,
   "metadata": {},
   "outputs": [],
   "source": [
    "rand_forest_pred = model2.transform(data)"
   ]
  },
  {
   "cell_type": "code",
   "execution_count": 34,
   "metadata": {},
   "outputs": [
    {
     "name": "stdout",
     "output_type": "stream",
     "text": [
      "0.7022134904398918\n"
     ]
    }
   ],
   "source": [
    "model2._evaluate_prediction()"
   ]
  },
  {
   "cell_type": "markdown",
   "metadata": {},
   "source": [
    "## 12. Model Saving / Loading and Prediction"
   ]
  },
  {
   "cell_type": "code",
   "execution_count": 25,
   "metadata": {},
   "outputs": [],
   "source": [
    "#saving Model\n",
    "log_reg_pred.save('log_reg.pkl')"
   ]
  },
  {
   "cell_type": "code",
   "execution_count": 26,
   "metadata": {},
   "outputs": [],
   "source": [
    "from pyspark.ml.classification import LogisticRegressionModel"
   ]
  },
  {
   "cell_type": "code",
   "execution_count": 27,
   "metadata": {},
   "outputs": [],
   "source": [
    "#loading Model\n",
    "mm = LogisticRegressionModel.load('log_reg.pkl')"
   ]
  },
  {
   "cell_type": "code",
   "execution_count": 28,
   "metadata": {},
   "outputs": [],
   "source": [
    "#prediction\n",
    "predicted=mm.transform(data)"
   ]
  },
  {
   "cell_type": "code",
   "execution_count": 29,
   "metadata": {},
   "outputs": [
    {
     "name": "stdout",
     "output_type": "stream",
     "text": [
      "+----------+\n",
      "|prediction|\n",
      "+----------+\n",
      "|       1.0|\n",
      "|       0.0|\n",
      "|       0.0|\n",
      "|       0.0|\n",
      "|       0.0|\n",
      "|       0.0|\n",
      "|       0.0|\n",
      "|       0.0|\n",
      "|       0.0|\n",
      "|       0.0|\n",
      "|       0.0|\n",
      "|       0.0|\n",
      "|       0.0|\n",
      "|       0.0|\n",
      "|       0.0|\n",
      "|       0.0|\n",
      "|       0.0|\n",
      "|       0.0|\n",
      "|       0.0|\n",
      "|       0.0|\n",
      "+----------+\n",
      "only showing top 20 rows\n",
      "\n"
     ]
    }
   ],
   "source": [
    "predicted.select('prediction').show()"
   ]
  },
  {
   "cell_type": "code",
   "execution_count": null,
   "metadata": {},
   "outputs": [],
   "source": []
  },
  {
   "cell_type": "code",
   "execution_count": null,
   "metadata": {},
   "outputs": [],
   "source": []
  },
  {
   "cell_type": "code",
   "execution_count": null,
   "metadata": {},
   "outputs": [],
   "source": []
  },
  {
   "cell_type": "code",
   "execution_count": null,
   "metadata": {},
   "outputs": [],
   "source": []
  }
 ],
 "metadata": {
  "kernelspec": {
   "display_name": "Python 3",
   "language": "python",
   "name": "python3"
  },
  "language_info": {
   "codemirror_mode": {
    "name": "ipython",
    "version": 3
   },
   "file_extension": ".py",
   "mimetype": "text/x-python",
   "name": "python",
   "nbconvert_exporter": "python",
   "pygments_lexer": "ipython3",
   "version": "3.7.0"
  }
 },
 "nbformat": 4,
 "nbformat_minor": 2
}

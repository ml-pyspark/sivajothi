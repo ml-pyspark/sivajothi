{
 "cells": [
  {
   "cell_type": "markdown",
   "metadata": {},
   "source": [
    "# Check GIT status"
   ]
  },
  {
   "cell_type": "code",
   "execution_count": 1,
   "metadata": {},
   "outputs": [
    {
     "name": "stdout",
     "output_type": "stream",
     "text": [
      "fatal: Not a git repository (or any of the parent directories): .git\r\n"
     ]
    }
   ],
   "source": [
    "!git status"
   ]
  },
  {
   "cell_type": "markdown",
   "metadata": {},
   "source": [
    "# If there are new directories, add them"
   ]
  },
  {
   "cell_type": "markdown",
   "metadata": {},
   "source": [
    "# Commit the new changes into git"
   ]
  },
  {
   "cell_type": "code",
   "execution_count": 15,
   "metadata": {},
   "outputs": [
    {
     "name": "stdout",
     "output_type": "stream",
     "text": [
      "fatal: confused by unstable object source data for 972aa71085fc08238657e515a71cd12829033d8c\r\n"
     ]
    }
   ],
   "source": [
    "!git add ."
   ]
  },
  {
   "cell_type": "code",
   "execution_count": 3,
   "metadata": {},
   "outputs": [
    {
     "name": "stdout",
     "output_type": "stream",
     "text": [
      "[master 8f3c7cc] Added Dhanooja notebooks\n",
      " 33 files changed, 1834 insertions(+), 723 deletions(-)\n",
      " create mode 100644 Abhishek/mlruns/2/a82a0847d3fe4bc88cce4566434fbcc5/meta.yaml\n",
      " create mode 100644 Abhishek/mlruns/2/a82a0847d3fe4bc88cce4566434fbcc5/metrics/r2\n",
      " create mode 100644 Abhishek/mlruns/2/a82a0847d3fe4bc88cce4566434fbcc5/metrics/rmse\n",
      " create mode 100644 Abhishek/mlruns/2/a82a0847d3fe4bc88cce4566434fbcc5/params/alpha\n",
      " create mode 100644 Abhishek/mlruns/2/a82a0847d3fe4bc88cce4566434fbcc5/params/l1\n",
      " create mode 100644 Abhishek/mlruns/2/meta.yaml\n",
      " rewrite Dhanooja/.ipynb_checkpoints/Model_Building-checkpoint.ipynb (67%)\n",
      " copy Dhanooja/.ipynb_checkpoints/{Model_Building-checkpoint.ipynb => Untitled-checkpoint.ipynb} (96%)\n",
      " create mode 100644 Dhanooja/Log_reg.model/metadata/._SUCCESS.crc\n",
      " create mode 100644 Dhanooja/Log_reg.model/metadata/.part-00000.crc\n",
      " create mode 100644 Dhanooja/Log_reg.model/metadata/_SUCCESS\n",
      " create mode 100644 Dhanooja/Log_reg.model/metadata/part-00000\n",
      " create mode 100644 Dhanooja/Untitled.ipynb\n",
      " create mode 100644 Dhanooja/save_model.model/metadata/._SUCCESS.crc\n",
      " create mode 100644 Dhanooja/save_model.model/metadata/.part-00000.crc\n",
      " create mode 100644 Dhanooja/save_model.model/metadata/_SUCCESS\n",
      " create mode 100644 Dhanooja/save_model.model/metadata/part-00000\n",
      " create mode 100644 Jafar/.ipynb_checkpoints/HelloWorld-Test-checkpoint.ipynb\n",
      " create mode 100644 Jafar/HelloWorld-Test.ipynb\n"
     ]
    }
   ],
   "source": [
    "!git commit -am \"Added Dhanooja notebooks\""
   ]
  },
  {
   "cell_type": "markdown",
   "metadata": {},
   "source": [
    "# Push the new changes into the remote github server"
   ]
  },
  {
   "cell_type": "markdown",
   "metadata": {},
   "source": [
    "Git has now been configured with an SSH key that is located at /home/jupuser/.ssh/id_rsa.pub. \n",
    "This same key has also been added to the Github account of ccaiml.\n",
    "\n",
    "One more configuration was to change the git remote url to use the SSH url with the command:\n",
    "```\n",
    "git remote set-url origin git@github.com:ccaiml/dataplatform.git\n",
    "```"
   ]
  },
  {
   "cell_type": "code",
   "execution_count": 4,
   "metadata": {},
   "outputs": [
    {
     "name": "stdout",
     "output_type": "stream",
     "text": [
      "Counting objects: 46, done.\n",
      "Delta compression using up to 2 threads.\n",
      "Compressing objects: 100% (37/37), done.\n",
      "Writing objects: 100% (46/46), 762.01 KiB | 0 bytes/s, done.\n",
      "Total 46 (delta 11), reused 0 (delta 0)\n",
      "remote: Resolving deltas: 100% (11/11), completed with 6 local objects.\u001b[K\n",
      "To git@github.com:ccaiml/dataplatform.git\n",
      "   0e1c921..8f3c7cc  master -> master\n"
     ]
    }
   ],
   "source": [
    "!git push"
   ]
  },
  {
   "cell_type": "markdown",
   "metadata": {},
   "source": [
    "# Clone the new changes into the remote github server"
   ]
  },
  {
   "cell_type": "code",
   "execution_count": 5,
   "metadata": {},
   "outputs": [
    {
     "name": "stdout",
     "output_type": "stream",
     "text": [
      "Cloning into 'EIM-CC'...\n",
      "remote: Enumerating objects: 32, done.\u001b[K\n",
      "remote: Counting objects: 100% (32/32), done.\u001b[K\n",
      "remote: Compressing objects: 100% (27/27), done.\u001b[K\n",
      "remote: Total 32 (delta 2), reused 0 (delta 0), pack-reused 0\u001b[K\n",
      "Receiving objects: 100% (32/32), 803.66 KiB | 0 bytes/s, done.\n",
      "Resolving deltas: 100% (2/2), done.\n",
      "Checking connectivity... done.\n"
     ]
    }
   ],
   "source": [
    "!git clone git@github.com:ccaiml/EIM-CC.git"
   ]
  },
  {
   "cell_type": "code",
   "execution_count": 6,
   "metadata": {},
   "outputs": [
    {
     "name": "stdout",
     "output_type": "stream",
     "text": [
      "On branch master\r\n",
      "Your branch is up-to-date with 'origin/master'.\r\n",
      "Changes not staged for commit:\r\n",
      "  (use \"git add/rm <file>...\" to update what will be committed)\r\n",
      "  (use \"git checkout -- <file>...\" to discard changes in working directory)\r\n",
      "\r\n",
      "\t\u001b[31mmodified:   .bash_history\u001b[m\r\n",
      "\t\u001b[31mmodified:   .ipython/profile_default/history.sqlite\u001b[m\r\n",
      "\t\u001b[31mmodified:   .oracle_jre_usage/9e360713136aba0a.timestamp\u001b[m\r\n",
      "\t\u001b[31mmodified:   Git Save.ipynb\u001b[m\r\n",
      "\t\u001b[31mdeleted:    INDRESH/.ipynb_checkpoints/test_dh-checkpoint.ipynb\u001b[m\r\n",
      "\t\u001b[31mmodified:   INDRESH/EimCC/S3Serializer.py\u001b[m\r\n",
      "\t\u001b[31mmodified:   INDRESH/EimCC/__pycache__/S3Serializer.cpython-37.pyc\u001b[m\r\n",
      "\t\u001b[31mdeleted:    INDRESH/test_dh.ipynb\u001b[m\r\n",
      "\t\u001b[31mmodified:   Jafar/.ipynb_checkpoints/server-checkpoint.ipynb\u001b[m\r\n",
      "\t\u001b[31mmodified:   Jafar/server.ipynb\u001b[m\r\n",
      "\t\u001b[31mmodified:   shared/apilib.py\u001b[m\r\n",
      "\r\n",
      "Untracked files:\r\n",
      "  (use \"git add <file>...\" to include in what will be committed)\r\n",
      "\r\n",
      "\t\u001b[31m.ipython/profile_default/history.sqlite-journal\u001b[m\r\n",
      "\t\u001b[31m.jupyter/nbconfig/notebook.json\u001b[m\r\n",
      "\t\u001b[31mEIM-CC/\u001b[m\r\n",
      "\t\u001b[31mINDRESH/.ipynb_checkpoints/Home Credit Loan Default-checkpoint.ipynb\u001b[m\r\n",
      "\t\u001b[31mINDRESH/.ipynb_checkpoints/Test s3 and data cleaning-checkpoint.ipynb\u001b[m\r\n",
      "\t\u001b[31mINDRESH/Home Credit Loan Default.ipynb\u001b[m\r\n",
      "\t\u001b[31mINDRESH/Model.pkl/\u001b[m\r\n",
      "\t\u001b[31mINDRESH/Test s3 and data cleaning.ipynb\u001b[m\r\n",
      "\t\u001b[31mINDRESH/home_credit/\u001b[m\r\n",
      "\t\u001b[31mswaggerFiles/homeLoanSwagger.yaml\u001b[m\r\n",
      "\t\u001b[31mswaggerFiles/swaggerHomeLoan.yaml\u001b[m\r\n",
      "\t\u001b[31mswaggerFiles/swaggerHomeLoan2.yaml\u001b[m\r\n",
      "\r\n",
      "no changes added to commit (use \"git add\" and/or \"git commit -a\")\r\n"
     ]
    }
   ],
   "source": [
    "!git status"
   ]
  },
  {
   "cell_type": "code",
   "execution_count": 9,
   "metadata": {},
   "outputs": [
    {
     "name": "stdout",
     "output_type": "stream",
     "text": [
      "origin\tgit@github.com:ccaiml/dataplatform.git (fetch)\r\n",
      "origin\tgit@github.com:ccaiml/dataplatform.git (push)\r\n"
     ]
    }
   ],
   "source": [
    "!git remote -v"
   ]
  },
  {
   "cell_type": "markdown",
   "metadata": {},
   "source": [
    "# Fetch the new changes into the remote github server\n",
    "\n",
    "\n",
    "#git fetch remotename branchname"
   ]
  },
  {
   "cell_type": "code",
   "execution_count": 17,
   "metadata": {},
   "outputs": [
    {
     "name": "stdout",
     "output_type": "stream",
     "text": [
      "From github.com:ccaiml/dataplatform\r\n",
      " * branch            master     -> FETCH_HEAD\r\n"
     ]
    }
   ],
   "source": [
    "!git fetch origin master"
   ]
  },
  {
   "cell_type": "markdown",
   "metadata": {},
   "source": [
    "# Pull the new changes into the remote github server"
   ]
  },
  {
   "cell_type": "markdown",
   "metadata": {},
   "source": [
    "#git pull remotename branchname"
   ]
  },
  {
   "cell_type": "code",
   "execution_count": 13,
   "metadata": {},
   "outputs": [
    {
     "name": "stdout",
     "output_type": "stream",
     "text": [
      "From github.com:ccaiml/dataplatform\n",
      " * branch            master     -> FETCH_HEAD\n",
      "Already up-to-date.\n"
     ]
    }
   ],
   "source": [
    "!git pull origin master"
   ]
  },
  {
   "cell_type": "code",
   "execution_count": 18,
   "metadata": {},
   "outputs": [
    {
     "name": "stdout",
     "output_type": "stream",
     "text": [
      "user.name=ccaiml\r\n",
      "user.email=\r\n",
      "push.default=simple\r\n",
      "core.repositoryformatversion=0\r\n",
      "core.filemode=true\r\n",
      "core.bare=false\r\n",
      "core.logallrefupdates=true\r\n",
      "remote.origin.url=git@github.com:ccaiml/dataplatform.git\r\n",
      "remote.origin.fetch=+refs/heads/*:refs/remotes/origin/*\r\n",
      "branch.master.remote=origin\r\n",
      "branch.master.merge=refs/heads/master\r\n"
     ]
    }
   ],
   "source": [
    "!git config --list"
   ]
  },
  {
   "cell_type": "code",
   "execution_count": null,
   "metadata": {},
   "outputs": [],
   "source": []
  }
 ],
 "metadata": {
  "kernelspec": {
   "display_name": "Python 3",
   "language": "python",
   "name": "python3"
  },
  "language_info": {
   "codemirror_mode": {
    "name": "ipython",
    "version": 3
   },
   "file_extension": ".py",
   "mimetype": "text/x-python",
   "name": "python",
   "nbconvert_exporter": "python",
   "pygments_lexer": "ipython3",
   "version": "3.7.0"
  }
 },
 "nbformat": 4,
 "nbformat_minor": 2
}

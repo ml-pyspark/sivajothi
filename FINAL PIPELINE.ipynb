{
 "cells": [
  {
   "cell_type": "code",
   "execution_count": 1,
   "metadata": {
    "collapsed": true
   },
   "outputs": [],
   "source": [
    "import findspark\n",
    "findspark.init('/home/cnlindreshb/spark')"
   ]
  },
  {
   "cell_type": "code",
   "execution_count": 2,
   "metadata": {},
   "outputs": [],
   "source": [
    "from pyspark.sql.types import *\n",
    "from pyspark.sql.functions import *\n",
    "from pyspark.sql import Row\n",
    "from pyspark.ml.feature import Imputer\n",
    "from pyspark.sql import SparkSession\n",
    "from pyspark.sql import *\n",
    "spark = SparkSession.builder.appName('CheckPyspark').getOrCreate()\n",
    "data=spark.read.csv('/home/cnlindreshb/Downloads/all/application_train.csv',header=True,inferSchema=True)"
   ]
  },
  {
   "cell_type": "code",
   "execution_count": 3,
   "metadata": {
    "collapsed": true
   },
   "outputs": [],
   "source": [
    "xcv=None\n",
    "def sort_features(feature_importance,column_name):\n",
    "    '''\n",
    "    Sort the feature importance values \n",
    "    args:\n",
    "    1.feature_importance: <NPARRAY> containg the feature importance \n",
    "    2. column names: <LIST> containing the column names from the dataframe\n",
    "    returns: sorted DICT of {key: column_name ,value :importance}\n",
    "    '''\n",
    "    global xcv\n",
    "    feature_map={}\n",
    "    for feature in zip(feature_importance,column_name):\n",
    "        feature_map[feature[1]]=feature[0]\n",
    "    sorted_feature_map=sorted(feature_map.items(), key=lambda x: x[1],reverse=True)\n",
    "    xcv=sorted_feature_map\n",
    "    return sorted_feature_map"
   ]
  },
  {
   "cell_type": "code",
   "execution_count": 4,
   "metadata": {
    "collapsed": true
   },
   "outputs": [],
   "source": [
    "def feature_importance_lightGBM(data,categorical_columns):\n",
    "    '''\n",
    "    FINDS THE FEATURE IMPORTANCE\n",
    "    1.data:<SPARK DATAFRAME> Actual Dataframe\n",
    "    2.categorical_columns:<LIST> of categorical columns\n",
    "    RETURNS : <DICT> of top N_features\n",
    "    '''\n",
    "    import lightgbm as lgb\n",
    "    import matplotlib.pyplot as plt\n",
    "    data_pandas=data.toPandas()\n",
    "    y=data_pandas['TARGET']\n",
    "    data_pandas.drop(['TARGET','SK_ID_CURR'],axis=1,inplace=True)\n",
    "    for col in categorical_columns:\n",
    "        data_pandas[col]=data_pandas[col].astype('category')\n",
    "    \n",
    "    \n",
    "    d_train = lgb.Dataset(data_pandas.iloc[:50000], label=y[:50000])\n",
    "\n",
    "    param = {'learning_rate' : 0.1, 'n_estimators': 100}\n",
    "\n",
    "    model2 = lgb.train(params=param,train_set=d_train,categorical_feature=list(categorical_columns))\n",
    "\n",
    "    print('Plot feature importances…')\n",
    "\n",
    "    #ax = lgb.plot_importance(model2, max_num_features=40,figsize=(16,16))\n",
    "\n",
    "    #plt.show()\n",
    "    feature_dict=sort_features(model2.feature_importance(),data_pandas.columns)\n",
    "    return dict(feature_dict[:40])"
   ]
  },
  {
   "cell_type": "code",
   "execution_count": 5,
   "metadata": {
    "collapsed": true
   },
   "outputs": [],
   "source": [
    "def fill_na_numerical(data,columns):\n",
    "    columns=list(columns)\n",
    "    imputer=Imputer(inputCols=columns,outputCols=['imputed_'+str(col) for col in columns])\n",
    "    dataCopy=imputer.fit(data).transform(data)\n",
    "    return dataCopy"
   ]
  },
  {
   "cell_type": "code",
   "execution_count": 6,
   "metadata": {
    "collapsed": true
   },
   "outputs": [],
   "source": [
    "def get_max_value(count_dict):\n",
    "    '''\n",
    "    GET MAX VALUE FROM A DICTIONARY\n",
    "    args:\n",
    "    1.count_dict: <DICT> frequency of each category {key=category name, value=count}\n",
    "    return: a tuple containing _key with tha maximim value _max\n",
    "    '''\n",
    "    _max=0\n",
    "    _key=0\n",
    "    for k,v in count_dict.items():\n",
    "        if v>_max:\n",
    "            _key=k\n",
    "            _max=v\n",
    "    return (_key,_max)"
   ]
  },
  {
   "cell_type": "code",
   "execution_count": 7,
   "metadata": {
    "collapsed": true
   },
   "outputs": [],
   "source": [
    "def fill_na_categorical(data,columns):\n",
    "    '''\n",
    "    FILL NULL VALUES FOR CATEGORICAL DATA\n",
    "    args:\n",
    "    1.data: <SPARK DATAFRAME> actual spark dataframe\n",
    "    2.columns: <LIST> of categorical columns we want to Impute\n",
    "\n",
    "    return: <SPARK DATAFRAME>Imputed spark dataframe\n",
    "    '''\n",
    "    for category in columns:\n",
    "        null_count=data.where(data[category].isNull()).count()\n",
    "        print('NULL Values before---->',null_count)\n",
    "        count_dict=data.cube(category).count().toPandas().set_index(category).to_dict()['count']\n",
    "        #frequency_distribution_categorical(count_dict,category)\n",
    "        key,_=get_max_value(count_dict)\n",
    "        print('NULL value Imputed with:',key)\n",
    "        data=data.fillna(key,subset=[category])\n",
    "        null_count=data.where(data[category].isNull()).count()\n",
    "        print('NULL Values before---->',null_count)\n",
    "    return data"
   ]
  },
  {
   "cell_type": "code",
   "execution_count": 8,
   "metadata": {
    "collapsed": true
   },
   "outputs": [],
   "source": [
    "def find_null_values(data,column_names,ratio=0.5):\n",
    "    '''\n",
    "    FIND ALL NULL VALUES IN DATASET\n",
    "    args:\n",
    "    1. data: Actual Spark < DataFrame >\n",
    "    2. column_names: < LIST > of columns to find missing values\n",
    "    3. total_count: < int > row count\n",
    "    4. ration: < float > range(0-1) how much null values is acceptable\n",
    "    return: < dict > {key=column name over having more than acceptable null values, value= total number of null values}\n",
    "    '''\n",
    "    \n",
    "    total_count=data.count()\n",
    "    drop_column_list={}\n",
    "    print('REMOVING columns with NULL value above:',total_count*ratio,ratio*100)\n",
    "    #print('----------------------------------------------------------')\n",
    "    for col in column_names:\n",
    "        #print(col,' having NULL VALUES -->',data.where(data[col].isNull()).count())\n",
    "        null_count=data.where(data[col].isNull()).count()\n",
    "        \n",
    "        if null_count>(total_count*ratio) and null_count>0:\n",
    "            #print(col,' having NULL VALUES -->',null_count)\n",
    "            drop_column_list[col]=null_count\n",
    "    return drop_column_list"
   ]
  },
  {
   "cell_type": "code",
   "execution_count": 9,
   "metadata": {},
   "outputs": [],
   "source": [
    "def pipeline(data,ratio=0.3):\n",
    "    print('1.Data Cleaning and Preprocessing')\n",
    "    column_names=data.columns\n",
    "    drop_column_list=find_null_values(data,column_names,ratio)\n",
    "    data=data.drop(*drop_column_list)\n",
    "    #print('COLUMNS after removing NULL values\\n',data.columns)\n",
    "    \n",
    "    # GETTING THE NUMERICAL AND CATEGORICAL COLUMN\n",
    "    categorial_columns=[cat[0] for cat in data.dtypes if cat[1]=='string']\n",
    "    numerical_columns=set(data.columns)-set(categorial_columns)\n",
    "    print(categorial_columns)\n",
    "    \n",
    "    print('IMPUTING CATEGORICAL VALUES')\n",
    "    cate_fill=find_null_values(data,categorial_columns,ratio=0)\n",
    "    data=fill_na_categorical(data,cate_fill)\n",
    "    \n",
    "    \n",
    "    print('IMPUTING NUMERICAL VALUES')\n",
    "    print(len(data.columns))\n",
    "    impute_numerical=find_null_values(data,numerical_columns,ratio=0)\n",
    "    #print('FILLING NUMERICAL VALUE')\n",
    "    data=fill_na_numerical(data,impute_numerical.keys())\n",
    "    data=data.drop(*list(impute_numerical.keys()))\n",
    "    print('Final number of columns after pre-processing',len(data.columns))\n",
    "    \n",
    "    print('2.FEATURE SELECTION')\n",
    "    feature_list=feature_importance_lightGBM(data,categorial_columns)\n",
    "    label_column=data.select('TARGET')\n",
    "    data=data.drop(*['TARGET','SK_ID_CURR'])\n",
    "    print('Final 40 columns selected after Feature Selection!')\n",
    "    return feature_list,data"
   ]
  },
  {
   "cell_type": "code",
   "execution_count": 10,
   "metadata": {},
   "outputs": [
    {
     "name": "stdout",
     "output_type": "stream",
     "text": [
      "1.Data Cleaning and Preprocessing\n",
      "REMOVING columns with NULL value above: 92253.3 30.0\n",
      "['NAME_CONTRACT_TYPE', 'CODE_GENDER', 'FLAG_OWN_CAR', 'FLAG_OWN_REALTY', 'NAME_TYPE_SUITE', 'NAME_INCOME_TYPE', 'NAME_EDUCATION_TYPE', 'NAME_FAMILY_STATUS', 'NAME_HOUSING_TYPE', 'WEEKDAY_APPR_PROCESS_START', 'ORGANIZATION_TYPE']\n",
      "IMPUTING CATEGORICAL VALUES\n",
      "REMOVING columns with NULL value above: 0 0\n",
      "NULL Values before----> 1292\n",
      "NULL value Imputed with: Unaccompanied\n",
      "NULL Values before----> 0\n",
      "IMPUTING NUMERICAL VALUES\n",
      "72\n",
      "REMOVING columns with NULL value above: 0 0\n",
      "Final number of columns after pre-processing 72\n",
      "2.FEATURE SELECTION\n"
     ]
    },
    {
     "name": "stderr",
     "output_type": "stream",
     "text": [
      "/home/cnlindreshb/.local/lib/python3.6/site-packages/lightgbm/engine.py:116: UserWarning: Found `n_estimators` in params. Will use it instead of argument\n",
      "  warnings.warn(\"Found `{}` in params. Will use it instead of argument\".format(alias))\n",
      "/home/cnlindreshb/.local/lib/python3.6/site-packages/lightgbm/basic.py:1190: UserWarning: categorical_feature in Dataset is overridden.\n",
      "New categorical_feature is ['CODE_GENDER', 'FLAG_OWN_CAR', 'FLAG_OWN_REALTY', 'NAME_CONTRACT_TYPE', 'NAME_EDUCATION_TYPE', 'NAME_FAMILY_STATUS', 'NAME_HOUSING_TYPE', 'NAME_INCOME_TYPE', 'NAME_TYPE_SUITE', 'ORGANIZATION_TYPE', 'WEEKDAY_APPR_PROCESS_START']\n",
      "  'New categorical_feature is {}'.format(sorted(list(categorical_feature))))\n"
     ]
    },
    {
     "name": "stdout",
     "output_type": "stream",
     "text": [
      "Plot feature importances…\n",
      "Final 40 columns selected after Feature Selection!\n"
     ]
    }
   ],
   "source": [
    "feature_list,data=pipeline(data)"
   ]
  }
 ],
 "metadata": {
  "kernelspec": {
   "display_name": "Python 3",
   "language": "python",
   "name": "python3"
  },
  "language_info": {
   "codemirror_mode": {
    "name": "ipython",
    "version": 3
   },
   "file_extension": ".py",
   "mimetype": "text/x-python",
   "name": "python",
   "nbconvert_exporter": "python",
   "pygments_lexer": "ipython3",
   "version": "3.7.0"
  }
 },
 "nbformat": 4,
 "nbformat_minor": 2
}

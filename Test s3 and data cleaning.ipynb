{
 "cells": [
  {
   "cell_type": "code",
   "execution_count": null,
   "metadata": {},
   "outputs": [],
   "source": [
    "from pyspark.sql.types import *\n",
    "from pyspark.sql.functions import *\n",
    "from pyspark.sql import Row\n",
    "from pyspark.ml.feature import Imputer\n",
    "from pyspark.sql import SparkSession\n",
    "from pyspark.sql import *"
   ]
  },
  {
   "cell_type": "code",
   "execution_count": null,
   "metadata": {},
   "outputs": [],
   "source": [
    "spark = SparkSession.builder.appName('product').getOrCreate()"
   ]
  },
  {
   "cell_type": "code",
   "execution_count": null,
   "metadata": {},
   "outputs": [],
   "source": [
    "data=spark.read.parquet('./cleaned_file_v1.parquet')"
   ]
  },
  {
   "cell_type": "code",
   "execution_count": null,
   "metadata": {},
   "outputs": [],
   "source": [
    "data.count()"
   ]
  },
  {
   "cell_type": "code",
   "execution_count": null,
   "metadata": {},
   "outputs": [],
   "source": [
    "data=data.drop(*['fecha_dato','ult_fec_cli_1t','fecha_alta'])"
   ]
  },
  {
   "cell_type": "code",
   "execution_count": null,
   "metadata": {},
   "outputs": [],
   "source": [
    "from CleanLib import DataCleaningLib"
   ]
  },
  {
   "cell_type": "code",
   "execution_count": null,
   "metadata": {},
   "outputs": [],
   "source": [
    "thisList=[col for col in data.columns if col.startswith('ind_') and col.endswith('ult1')]"
   ]
  },
  {
   "cell_type": "code",
   "execution_count": null,
   "metadata": {},
   "outputs": [],
   "source": [
    "len(thisList)"
   ]
  },
  {
   "cell_type": "code",
   "execution_count": null,
   "metadata": {},
   "outputs": [],
   "source": [
    "%%time\n",
    "dd=DataCleaningLib()\n",
    "data = dd.cleaning(data)"
   ]
  },
  {
   "cell_type": "code",
   "execution_count": null,
   "metadata": {},
   "outputs": [],
   "source": [
    "#data.write.parquet('cleaned_file_v1.parquet')"
   ]
  },
  {
   "cell_type": "code",
   "execution_count": 1,
   "metadata": {},
   "outputs": [],
   "source": [
    "from S3Serializer import S3Bucket"
   ]
  },
  {
   "cell_type": "code",
   "execution_count": 2,
   "metadata": {},
   "outputs": [],
   "source": [
    "s3=S3Bucket()"
   ]
  },
  {
   "cell_type": "code",
   "execution_count": 3,
   "metadata": {},
   "outputs": [
    {
     "name": "stdout",
     "output_type": "stream",
     "text": [
      "Connecting to host  18.212.194.194\n",
      "Connected\n"
     ]
    }
   ],
   "source": [
    "s3.connect(host = \"18.212.194.194\", username = \"centos\", key = './InternalPOC_Digital.pem')"
   ]
  },
  {
   "cell_type": "code",
   "execution_count": 4,
   "metadata": {},
   "outputs": [
    {
     "name": "stdout",
     "output_type": "stream",
     "text": [
      "Getting data...\n",
      "Getting File--> part-00000-96730ec4-4608-4cb4-bc99-b1d51948d09b-c000.snappy.parquet\n",
      "Getting File--> part-00001-96730ec4-4608-4cb4-bc99-b1d51948d09b-c000.snappy.parquet\n",
      "Getting File--> part-00002-96730ec4-4608-4cb4-bc99-b1d51948d09b-c000.snappy.parquet\n",
      "Getting File--> part-00003-96730ec4-4608-4cb4-bc99-b1d51948d09b-c000.snappy.parquet\n",
      "Getting File--> part-00004-96730ec4-4608-4cb4-bc99-b1d51948d09b-c000.snappy.parquet\n",
      "Getting File--> _SUCCESS\n",
      "['part-00000-96730ec4-4608-4cb4-bc99-b1d51948d09b-c000.snappy.parquet', 'part-00001-96730ec4-4608-4cb4-bc99-b1d51948d09b-c000.snappy.parquet', 'part-00002-96730ec4-4608-4cb4-bc99-b1d51948d09b-c000.snappy.parquet', 'part-00003-96730ec4-4608-4cb4-bc99-b1d51948d09b-c000.snappy.parquet', 'part-00004-96730ec4-4608-4cb4-bc99-b1d51948d09b-c000.snappy.parquet', '_SUCCESS']\n"
     ]
    }
   ],
   "source": [
    "s3.get_dir_remote('cleaned_file_v1.parquet','cleaned_file_v1.parquet')"
   ]
  },
  {
   "cell_type": "code",
   "execution_count": null,
   "metadata": {},
   "outputs": [],
   "source": [
    "import os"
   ]
  },
  {
   "cell_type": "code",
   "execution_count": null,
   "metadata": {},
   "outputs": [],
   "source": [
    "os.getcwd()"
   ]
  },
  {
   "cell_type": "code",
   "execution_count": null,
   "metadata": {},
   "outputs": [],
   "source": [
    "s3.get_file_list()"
   ]
  },
  {
   "cell_type": "code",
   "execution_count": null,
   "metadata": {},
   "outputs": [],
   "source": [
    "os.path.isdir('cleaned_file_v1.parquet')"
   ]
  },
  {
   "cell_type": "code",
   "execution_count": null,
   "metadata": {},
   "outputs": [],
   "source": [
    "data.select('ind_empleado').distinct().count()"
   ]
  },
  {
   "cell_type": "code",
   "execution_count": null,
   "metadata": {},
   "outputs": [],
   "source": [
    "!free -m"
   ]
  },
  {
   "cell_type": "code",
   "execution_count": null,
   "metadata": {},
   "outputs": [],
   "source": []
  }
 ],
 "metadata": {
  "kernelspec": {
   "display_name": "Python 3",
   "language": "python",
   "name": "python3"
  },
  "language_info": {
   "codemirror_mode": {
    "name": "ipython",
    "version": 3
   },
   "file_extension": ".py",
   "mimetype": "text/x-python",
   "name": "python",
   "nbconvert_exporter": "python",
   "pygments_lexer": "ipython3",
   "version": "3.7.0"
  }
 },
 "nbformat": 4,
 "nbformat_minor": 2
}
